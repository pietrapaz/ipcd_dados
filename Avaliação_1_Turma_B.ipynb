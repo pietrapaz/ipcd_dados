{
  "nbformat": 4,
  "nbformat_minor": 0,
  "metadata": {
    "colab": {
      "provenance": [],
      "toc_visible": true
    },
    "kernelspec": {
      "name": "python3",
      "display_name": "Python 3"
    },
    "language_info": {
      "name": "python"
    }
  },
  "cells": [
    {
      "cell_type": "markdown",
      "source": [
        "# Avaliação 1 - Introdução a Python para Ciência de Dados - Turma B\n",
        "\n",
        "## Prova 1: 15% (percentual da menção geral) - Data: 03/04/2024\n",
        "\n",
        "### Prova prática utilizando o ambiente de programação com o seguinte conteúdo:\n",
        "1. Strings;\n",
        "1. List, tupla, set, dicionário;\n",
        "1. Funções;\n",
        "1. Controle de Fluxo;\n",
        "1. Exceções.\n",
        "\n",
        "\n",
        "### Instruções Gerais:\n",
        "*\t**Certifique-se de testar seus programas com diferentes entradas para garantir sua robustez.**\n",
        "*  **Não usem `print` nem `input` dentro das funções.** Todo o tratamento de entrada de dados de usuáio, quando houver e toda a saída para o usuário deve ocorrer fora das funções.\n",
        "*\t**Corretude do código:** Verifique se o código executa corretamente a tarefa solicitada sem erros. (65%)\n",
        "*\t**Clareza e organização do código**: O código deve ser fácil de ler e entender, com comentários explicativos quando necessário. (20%)\n",
        "*\t**Robustez**: O código deve ser capaz de lidar com diferentes tipos de entrada e situações sem falhar. (10%)\n",
        "*\t**Respostas amigáveis**: As saídas impressas no notebook não devem ser apenas um número solto. Contextualize suas respostas de maneira sucinta, dando uma explicação sobre o que está sendo impresso na saída. (5%)\n",
        "\n",
        "## Para enviar o resultado, sigam os seguintes passos:\n",
        "1. Menu \"Arquivo\" (caso ele não esteja aparecendo, vá no canto superior direito e clique em uma seta para baixo)\n",
        "1. Opção \"Fazer download\"\n",
        "1. Opção \"Fazer o download do .ipynb\"\n",
        "1. Fazer o upload na tarefa que está na [Sala Online da Turma](https://salaonline.ceub.br/course/view.php?id=10928)\n",
        "\n",
        "**A avaliação será das 08:00 até 9h40m**\n",
        "\n",
        "**Após este horário, o upload não será mais permitido!**\n",
        "\n",
        "## **Códigos idênticos serão zerados!**\n",
        "\n"
      ],
      "metadata": {
        "id": "9iQwfsgUfWDm"
      }
    },
    {
      "cell_type": "markdown",
      "source": [
        "## Questão 1 (1,0 ponto)\n",
        "\n",
        "**Enunciado**: Escreva uma função que recebe uma string e retorna a quantidade de letras `a` (minúscula) na string.\n",
        "\n",
        "Exemplo de Entrada: `'Ciência de Dados é incrível'`\n",
        "\n",
        "Saída Esperada: `'A string fornecida tem 2 letras \"a\".'`"
      ],
      "metadata": {
        "id": "f7GckWc0-OuI"
      }
    },
    {
      "cell_type": "code",
      "execution_count": 1,
      "metadata": {
        "id": "CNyVEEwHFGv8"
      },
      "outputs": [],
      "source": [
        "# Desenvolva seu código aqui\n",
        "\n"
      ]
    },
    {
      "cell_type": "markdown",
      "source": [
        "## Questão 2 (1,5 ponto)\n",
        "\n",
        "**Enunciado**: Implemente uma função que recebe uma lista de números e retorna a soma dos números pares.\n",
        "\n",
        "Exemplo de Entrada: `[1, 2, 3, 4, 5]`\n",
        "\n",
        "Saída Esperada: `'A soma dos números pares é 6.'`"
      ],
      "metadata": {
        "id": "RuCWq105_JVT"
      }
    },
    {
      "cell_type": "code",
      "source": [
        "# Desenvolva seu código aqui\n",
        "\n"
      ],
      "metadata": {
        "id": "guLjNXna_LYo"
      },
      "execution_count": 2,
      "outputs": []
    },
    {
      "cell_type": "markdown",
      "source": [
        "## Questão 3 (1,0 ponto)\n",
        "\n",
        "**Enunciado**: Crie uma função que verifica se todos os elementos de uma lista são únicos (não há elementos repetidos).\n",
        "\n",
        "Exemplo de Entrada: `[1, 2, 3, 4, 5]`\n",
        "\n",
        "Saída Esperada: `'Todos os elementos são únicos.'`"
      ],
      "metadata": {
        "id": "x1v9FTRz_JuO"
      }
    },
    {
      "cell_type": "code",
      "source": [
        "# Desenvolva seu código aqui\n",
        "\n"
      ],
      "metadata": {
        "id": "Y3V9o2TC_LqO"
      },
      "execution_count": 3,
      "outputs": []
    },
    {
      "cell_type": "markdown",
      "source": [
        "## Questão 4 (2,5 pontos)\n",
        "\n",
        "**Enunciado**: Escreva uma função que recebe uma lista de strings:\n",
        "* Primeiro, verifique se todos os itens da lista são do tipo string. Caso a lista contenha algum elemento que não seja uma string, a função deve lançar uma exceção `ValueError` com a mensagem `A lista deve conter apenas strings.`;\n",
        "* Se todos os elementos forem strings, a função deve então retornar uma nova lista contendo apenas as strings que têm **5 caracteres ou menos**.\n",
        "\n",
        "Exemplo de Entrada 1: `['maçã', 'banana', 'kiwi', 'abacate', 'manga']`\n",
        "\n",
        "Saída Esperada 1: `'Strings com 5 ou menos caracteres: ['maçã', 'kiwi', 'manga']'`\n",
        "\n",
        "Exemplo de Entrada 2: `['maçã', 'banana', 'kiwi', 'abacate', 'manga', True]`\n",
        "\n",
        "Saída Esperada 2: `'A lista deve conter apenas strings.'`"
      ],
      "metadata": {
        "id": "LV8nlYzx_J3_"
      }
    },
    {
      "cell_type": "code",
      "source": [
        "# Desenvolva seu código aqui\n",
        "\n"
      ],
      "metadata": {
        "id": "QjS3r6mj_L8n"
      },
      "execution_count": 4,
      "outputs": []
    },
    {
      "cell_type": "markdown",
      "source": [
        "## Questão 5 (2,5 pontos)\n",
        "\n",
        "**Enunciado**: Implemente uma função que, dada uma lista de nomes de alunos e suas respectivas notas, retorna o nome do aluno com a **menor nota**.\n",
        "\n",
        "Exemplo de Entrada: `{'Ana': 90, 'Bruno': 85, 'Carla': 92}`\n",
        "\n",
        "Saída Esperada: `'O aluno com a menor nota é Bruno com 85 pontos.'`"
      ],
      "metadata": {
        "id": "02heseGX_KCn"
      }
    },
    {
      "cell_type": "code",
      "source": [
        "# Desenvolva seu código aqui\n",
        "\n"
      ],
      "metadata": {
        "id": "wlDAQQyusr3_"
      },
      "execution_count": 5,
      "outputs": []
    },
    {
      "cell_type": "markdown",
      "source": [
        "## Questão 6 (1,5 ponto)\n",
        "\n",
        "**Enunciado**: Escreva uma função que simula o lançamento de **dois dados** (valores de 1 a 6) **10.000 vezes** e retorna a contagem de quantas vezes cada possível soma aparece (2 a 12).\n",
        "\n",
        "Exemplo de Entrada: **Não aplicável**\n",
        "\n",
        "Saída Esperada: `'Contagem de somas dos dados: {2: x, 3: y, ..., 12: z}'`\n",
        "\n",
        "**Dica**:\n",
        "1. Para sortear um valor do dado, utilize a seguinte instrução: `random.randint(1, 6)`. Para que ela funcione, coloque a seguinte instrução no seu código: `import random` antes de utilizar a função.\n",
        "2. Use a soma dos dados como chave de um dict e vá atualizando a soma como valor de cada chave"
      ],
      "metadata": {
        "id": "OB-nj5qb_KLF"
      }
    },
    {
      "cell_type": "code",
      "source": [
        "# Desenvolva seu código aqui\n",
        "\n"
      ],
      "metadata": {
        "id": "ZQn021wWvwQn"
      },
      "execution_count": 6,
      "outputs": []
    }
  ]
}