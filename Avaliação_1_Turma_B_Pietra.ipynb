{
  "nbformat": 4,
  "nbformat_minor": 0,
  "metadata": {
    "colab": {
      "provenance": [],
      "toc_visible": true
    },
    "kernelspec": {
      "name": "python3",
      "display_name": "Python 3"
    },
    "language_info": {
      "name": "python"
    }
  },
  "cells": [
    {
      "cell_type": "markdown",
      "source": [
        "# Avaliação 1 - Introdução a Python para Ciência de Dados - Turma B\n",
        "\n",
        "## Prova 1: 15% (percentual da menção geral) - Data: 03/04/2024\n",
        "\n",
        "### Prova prática utilizando o ambiente de programação com o seguinte conteúdo:\n",
        "1. Strings;\n",
        "1. List, tupla, set, dicionário;\n",
        "1. Funções;\n",
        "1. Controle de Fluxo;\n",
        "1. Exceções.\n",
        "\n",
        "\n",
        "### Instruções Gerais:\n",
        "*\t**Certifique-se de testar seus programas com diferentes entradas para garantir sua robustez.**\n",
        "*  **Não usem `print` nem `input` dentro das funções.** Todo o tratamento de entrada de dados de usuáio, quando houver e toda a saída para o usuário deve ocorrer fora das funções.\n",
        "*\t**Corretude do código:** Verifique se o código executa corretamente a tarefa solicitada sem erros. (65%)\n",
        "*\t**Clareza e organização do código**: O código deve ser fácil de ler e entender, com comentários explicativos quando necessário. (20%)\n",
        "*\t**Robustez**: O código deve ser capaz de lidar com diferentes tipos de entrada e situações sem falhar. (10%)\n",
        "*\t**Respostas amigáveis**: As saídas impressas no notebook não devem ser apenas um número solto. Contextualize suas respostas de maneira sucinta, dando uma explicação sobre o que está sendo impresso na saída. (5%)\n",
        "\n",
        "## Para enviar o resultado, sigam os seguintes passos:\n",
        "1. Menu \"Arquivo\" (caso ele não esteja aparecendo, vá no canto superior direito e clique em uma seta para baixo)\n",
        "1. Opção \"Fazer download\"\n",
        "1. Opção \"Fazer o download do .ipynb\"\n",
        "1. Fazer o upload na tarefa que está na [Sala Online da Turma](https://salaonline.ceub.br/course/view.php?id=10928)\n",
        "\n",
        "**A avaliação será das 08:00 até 9h40m**\n",
        "\n",
        "**Após este horário, o upload não será mais permitido!**\n",
        "\n",
        "## **Códigos idênticos serão zerados!**\n",
        "\n"
      ],
      "metadata": {
        "id": "9iQwfsgUfWDm"
      }
    },
    {
      "cell_type": "markdown",
      "source": [
        "## Questão 1 (1,0 ponto)\n",
        "\n",
        "**Enunciado**: Escreva uma função que recebe uma string e retorna a quantidade de letras `a` (minúscula) na string.\n",
        "\n",
        "Exemplo de Entrada: `'Ciência de Dados é incrível'`\n",
        "\n",
        "Saída Esperada: `'A string fornecida tem 2 letras \"a\".'`"
      ],
      "metadata": {
        "id": "f7GckWc0-OuI"
      }
    },
    {
      "cell_type": "code",
      "execution_count": 13,
      "metadata": {
        "id": "CNyVEEwHFGv8",
        "colab": {
          "base_uri": "https://localhost:8080/",
          "height": 53
        },
        "outputId": "8bb65484-964b-4a8d-81fb-bbbd4c7af18f"
      },
      "outputs": [
        {
          "name": "stdout",
          "output_type": "stream",
          "text": [
            "escreva uma frase: Ciência de Dados é incrível\n"
          ]
        },
        {
          "output_type": "execute_result",
          "data": {
            "text/plain": [
              "'A string fornecida tem 2 letras \"a\"'"
            ],
            "application/vnd.google.colaboratory.intrinsic+json": {
              "type": "string"
            }
          },
          "metadata": {},
          "execution_count": 13
        }
      ],
      "source": [
        "# Desenvolva seu código aqui\n",
        "\n",
        "def qtd_letras(entrada):\n",
        "    letra_a = 'a'\n",
        "    contador = 0\n",
        "    for letra in entrada:\n",
        "      if letra in letra_a:\n",
        "        contador += 1\n",
        "    return f'A string fornecida tem {contador} letras \"a\"'\n",
        "\n",
        "qtd_letras(input(\"escreva uma frase: \"))"
      ]
    },
    {
      "cell_type": "markdown",
      "source": [
        "## Questão 2 (1,5 ponto)\n",
        "\n",
        "**Enunciado**: Implemente uma função que recebe uma lista de números e retorna a soma dos números pares.\n",
        "\n",
        "Exemplo de Entrada: `[1, 2, 3, 4, 5]`\n",
        "\n",
        "Saída Esperada: `'A soma dos números pares é 6.'`"
      ],
      "metadata": {
        "id": "RuCWq105_JVT"
      }
    },
    {
      "cell_type": "code",
      "source": [
        "# Desenvolva seu código aqui\n",
        "\n",
        "def soma_dos_pares(lista_numeros):\n",
        "    numeros_pares = []\n",
        "    for numero in lista_numeros:\n",
        "        if numero % 2 == 0:\n",
        "            numeros_pares.append(numero)\n",
        "    return f'A soma dos números pares é {sum(numeros_pares)}'\n",
        "  # \\n foi utilizado para fazer uma quebra de linha na frase\n",
        "\n",
        "soma_dos_pares(eval('[' + input(\"Digite uma lista de numeros: \") + ']'))\n",
        "# a funcao eval foi utilizado para que os numeros recebidos nao sejam lidos como string e consigam ser somados"
      ],
      "metadata": {
        "id": "guLjNXna_LYo",
        "colab": {
          "base_uri": "https://localhost:8080/",
          "height": 53
        },
        "outputId": "6feb301d-573d-4f95-e5dd-08cbaf5c2f6b"
      },
      "execution_count": 52,
      "outputs": [
        {
          "name": "stdout",
          "output_type": "stream",
          "text": [
            "Digite uma lista de numeros: 1, 2, 3, 4, 5\n"
          ]
        },
        {
          "output_type": "execute_result",
          "data": {
            "text/plain": [
              "'A soma dos números pares é 6'"
            ],
            "application/vnd.google.colaboratory.intrinsic+json": {
              "type": "string"
            }
          },
          "metadata": {},
          "execution_count": 52
        }
      ]
    },
    {
      "cell_type": "markdown",
      "source": [
        "## Questão 3 (1,0 ponto)\n",
        "\n",
        "**Enunciado**: Crie uma função que verifica se todos os elementos de uma lista são únicos (não há elementos repetidos).\n",
        "\n",
        "Exemplo de Entrada: `[1, 2, 3, 4, 5]`\n",
        "\n",
        "Saída Esperada: `'Todos os elementos são únicos.'`"
      ],
      "metadata": {
        "id": "x1v9FTRz_JuO"
      }
    },
    {
      "cell_type": "code",
      "source": [
        "# Desenvolva seu código aqui  ! REFAZER\n",
        "\n",
        "lista_numeros = [1, 2, 3, 4]\n",
        "#numero = #valor unico dentro da lista\n",
        "\n",
        "def verificar_numeros_unicos(numero):\n",
        "  for numero in lista_numeros:\n",
        "    print(numero)\n",
        "  if numero%numero==1:\n",
        "    return 'todos os elementos sao unicos'\n",
        "  else:\n",
        "    return 'todos os elementos NAO SAO unicos'\n",
        "\n",
        "verificar_numeros_unicos(lista_numeros)"
      ],
      "metadata": {
        "id": "Y3V9o2TC_LqO",
        "colab": {
          "base_uri": "https://localhost:8080/",
          "height": 105
        },
        "outputId": "a015833e-2e71-430a-cf5a-8f49ca67d82b"
      },
      "execution_count": 82,
      "outputs": [
        {
          "output_type": "stream",
          "name": "stdout",
          "text": [
            "1\n",
            "2\n",
            "3\n",
            "4\n"
          ]
        },
        {
          "output_type": "execute_result",
          "data": {
            "text/plain": [
              "'todos os elementos NAO SAO unicos'"
            ],
            "application/vnd.google.colaboratory.intrinsic+json": {
              "type": "string"
            }
          },
          "metadata": {},
          "execution_count": 82
        }
      ]
    },
    {
      "cell_type": "markdown",
      "source": [
        "## Questão 4 (2,5 pontos)\n",
        "\n",
        "**Enunciado**: Escreva uma função que recebe uma lista de strings:\n",
        "* Primeiro, verifique se todos os itens da lista são do tipo string. Caso a lista contenha algum elemento que não seja uma string, a função deve lançar uma exceção `ValueError` com a mensagem `A lista deve conter apenas strings.`;\n",
        "* Se todos os elementos forem strings, a função deve então retornar uma nova lista contendo apenas as strings que têm **5 caracteres ou menos**.\n",
        "\n",
        "Exemplo de Entrada 1: `['maçã', 'banana', 'kiwi', 'abacate', 'manga']`\n",
        "\n",
        "Saída Esperada 1: `'Strings com 5 ou menos caracteres: ['maçã', 'kiwi', 'manga']'`\n",
        "\n",
        "Exemplo de Entrada 2: `['maçã', 'banana', 'kiwi', 'abacate', 'manga', True]`\n",
        "\n",
        "Saída Esperada 2: `'A lista deve conter apenas strings.'`"
      ],
      "metadata": {
        "id": "LV8nlYzx_J3_"
      }
    },
    {
      "cell_type": "code",
      "source": [
        "# Desenvolva seu código aqui\n",
        "\n"
      ],
      "metadata": {
        "id": "QjS3r6mj_L8n"
      },
      "execution_count": null,
      "outputs": []
    },
    {
      "cell_type": "markdown",
      "source": [
        "## Questão 5 (2,5 pontos)\n",
        "\n",
        "**Enunciado**: Implemente uma função que, dada uma lista de nomes de alunos e suas respectivas notas, retorna o nome do aluno com a **menor nota**.\n",
        "\n",
        "Exemplo de Entrada: `{'Ana': 90, 'Bruno': 85, 'Carla': 92}`\n",
        "\n",
        "Saída Esperada: `'O aluno com a menor nota é Bruno com 85 pontos.'`"
      ],
      "metadata": {
        "id": "02heseGX_KCn"
      }
    },
    {
      "cell_type": "code",
      "source": [
        "# Desenvolva seu código aqui\n",
        "\n"
      ],
      "metadata": {
        "id": "wlDAQQyusr3_"
      },
      "execution_count": null,
      "outputs": []
    },
    {
      "cell_type": "markdown",
      "source": [
        "## Questão 6 (1,5 ponto)\n",
        "\n",
        "**Enunciado**: Escreva uma função que simula o lançamento de **dois dados** (valores de 1 a 6) **10.000 vezes** e retorna a contagem de quantas vezes cada possível soma aparece (2 a 12).\n",
        "\n",
        "Exemplo de Entrada: **Não aplicável**\n",
        "\n",
        "Saída Esperada: `'Contagem de somas dos dados: {2: x, 3: y, ..., 12: z}'`\n",
        "\n",
        "**Dica**:\n",
        "1. Para sortear um valor do dado, utilize a seguinte instrução: `random.randint(1, 6)`. Para que ela funcione, coloque a seguinte instrução no seu código: `import random` antes de utilizar a função.\n",
        "2. Use a soma dos dados como chave de um dict e vá atualizando a soma como valor de cada chave"
      ],
      "metadata": {
        "id": "OB-nj5qb_KLF"
      }
    },
    {
      "cell_type": "code",
      "source": [
        "# Desenvolva seu código aqui\n",
        "\n"
      ],
      "metadata": {
        "id": "ZQn021wWvwQn"
      },
      "execution_count": null,
      "outputs": []
    }
  ]
}